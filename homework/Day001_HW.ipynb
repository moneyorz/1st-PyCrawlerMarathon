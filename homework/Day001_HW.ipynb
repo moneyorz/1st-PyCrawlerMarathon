{
 "cells": [
  {
   "cell_type": "code",
   "execution_count": 21,
   "metadata": {
    "scrolled": true
   },
   "outputs": [
    {
     "data": {
      "text/plain": [
       "('.\\\\data\\\\Homework.txt', <http.client.HTTPMessage at 0x2381a179fc8>)"
      ]
     },
     "execution_count": 21,
     "metadata": {},
     "output_type": "execute_result"
    }
   ],
   "source": [
    "from urllib.request import urlretrieve\n",
    "url=\".\\data\\Homework.txt\"\n",
    "urlretrieve(\"https://www.w3.org/TR/PNG/iso_8859-1.txt\",url)"
   ]
  },
  {
   "cell_type": "code",
   "execution_count": 22,
   "metadata": {
    "scrolled": true
   },
   "outputs": [
    {
     "name": "stdout",
     "output_type": "stream",
     "text": [
      "檔案存在\n"
     ]
    }
   ],
   "source": [
    "import os\n",
    "if os.path.isfile(url):\n",
    "    print(\"檔案存在\")\n",
    "else:\n",
    "    print(\"檔案不存在\")"
   ]
  },
  {
   "cell_type": "code",
   "execution_count": 23,
   "metadata": {},
   "outputs": [],
   "source": [
    "with open(url,\"w\") as fp:\n",
    "    fp.write(\"Hello World\") "
   ]
  },
  {
   "cell_type": "code",
   "execution_count": 24,
   "metadata": {},
   "outputs": [
    {
     "name": "stdout",
     "output_type": "stream",
     "text": [
      "檔案字數:6132與Hello World字數不合\n"
     ]
    }
   ],
   "source": [
    "with open(url,\"r\") as fp:\n",
    "    wordsize=len(fp.read())\n",
    "if wordsize==len(\"Hello World\"):\n",
    "    print(\"檔案字數符合Hello World\")\n",
    "else:\n",
    "    print(\"檔案字數:\"+str(wordsize)+\"與Hello World字數不合\")"
   ]
  }
 ],
 "metadata": {
  "kernelspec": {
   "display_name": "Python 3",
   "language": "python",
   "name": "python3"
  },
  "language_info": {
   "codemirror_mode": {
    "name": "ipython",
    "version": 3
   },
   "file_extension": ".py",
   "mimetype": "text/x-python",
   "name": "python",
   "nbconvert_exporter": "python",
   "pygments_lexer": "ipython3",
   "version": "3.7.4"
  }
 },
 "nbformat": 4,
 "nbformat_minor": 2
}
