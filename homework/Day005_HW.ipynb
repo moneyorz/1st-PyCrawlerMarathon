{
 "cells": [
  {
   "cell_type": "markdown",
   "metadata": {},
   "source": [
    "# API 資料串接 - 以 Dcard API 實作範例\n",
    "\n",
    "* 利用 urllib 套件的 urlretrieve 方法下載檔案\n",
    "* 了解 Python File I/O 讀檔、寫檔的用法\n",
    "* 能用運用資源管理器 With Statement 優化寫法"
   ]
  },
  {
   "cell_type": "markdown",
   "metadata": {},
   "source": [
    "## 作業目標\n",
    "\n",
    "* 請利用 API: https://www.dcard.tw/_api/forums/pet/posts?popular=true 回答下列問題：\n",
    "\n",
    "1. 這個 API 一次會回傳幾筆資料？每一筆資料包含哪些欄位？\n",
    "2. 取出每一筆資料的「標題」、「貼文時間」、「留言人數」、「按讚人數」\n",
    "3. 計算熱門/非熱門文章的「平均留言人數」與「平均按讚人數」"
   ]
  },
  {
   "cell_type": "code",
   "execution_count": 51,
   "metadata": {},
   "outputs": [
    {
     "name": "stdout",
     "output_type": "stream",
     "text": [
      "1次會回傳30幾筆資料\n",
      "每筆資料包含以下欄位\n",
      "id\n",
      "title\n",
      "excerpt\n",
      "anonymousSchool\n",
      "anonymousDepartment\n",
      "pinned\n",
      "forumId\n",
      "replyId\n",
      "createdAt\n",
      "updatedAt\n",
      "commentCount\n",
      "likeCount\n",
      "withNickname\n",
      "tags\n",
      "topics\n",
      "meta\n",
      "forumName\n",
      "forumAlias\n",
      "gender\n",
      "school\n",
      "replyTitle\n",
      "reportReason\n",
      "mediaMeta\n",
      "reactions\n",
      "hidden\n",
      "customStyle\n",
      "isSuspiciousAccount\n",
      "layout\n",
      "withImages\n",
      "withVideos\n",
      "media\n",
      "reportReasonText\n",
      "postAvatar\n"
     ]
    }
   ],
   "source": [
    "# 1. 這個 API 一次會回傳幾筆資料？每一筆資料包含哪些欄位？\n",
    "\n",
    "import requests,json\n",
    "response=requests.get('https://www.dcard.tw/_api/forums/pet/posts?popular=true')\n",
    "jr=json.loads(response.text)\n",
    "print(\"1次會回傳%d幾筆資料\" % len(jr))\n",
    "print(\"每筆資料包含以下欄位\")\n",
    "for x in jr[0].keys():\n",
    "    print(x)"
   ]
  },
  {
   "cell_type": "code",
   "execution_count": 50,
   "metadata": {
    "collapsed": true
   },
   "outputs": [
    {
     "name": "stdout",
     "output_type": "stream",
     "text": [
      "標題                             貼文時間       留言人數       按讚人數      \n",
      "不要被薩摩耶給騙了！                    2019-11-29T00:25:38.826Z        68      2843\n",
      "這些狗你認識嗎😍                      2019-11-28T04:08:18.539Z        47      1797\n",
      "充滿柴柴的人生❤️                     2019-11-28T07:19:45.391Z        19       609\n",
      "#圖多 偷看🐹上廁所......              2019-11-28T13:44:17.224Z        16       570\n",
      "請問這樣算不算虐貓                     2019-11-28T09:04:40.825Z        47       499\n",
      "兄弟貓🧐                          2019-11-28T12:25:11.285Z        11       187\n",
      "#圖 柴柴 你能懂我的明白嗎？               2019-11-28T16:22:31.895Z         7       137\n",
      "沒有責任感根本沒資格養寵物                 2019-11-28T11:47:21.176Z        20       134\n",
      "紙袋破壞王🏆                        2019-11-28T09:43:33.709Z         4        98\n",
      "高科大校板的遺失倉鼠                    2019-11-28T05:23:12.530Z         2        66\n",
      "我竟然被我家ㄉ狗鄙視！                   2019-11-28T16:51:07.018Z         4        55\n",
      "天冷怎麼辦ಥ_ಥ #柯基#圖多               2019-11-28T15:47:50.708Z         0        49\n",
      "🐰誰說兔子不能碰水！兔子❤️海灘              2019-11-29T07:34:46.328Z         5        41\n",
      "貓咪教妳皮笑肉不笑🙂                    2019-11-28T11:55:17.571Z         2        41\n",
      "#募款 #貓 愛在街角，守護浪貓              2019-11-28T07:11:04.741Z         1        28\n",
      "你也知道要坐那                       2019-11-28T17:00:22.755Z         3        27\n",
      "求吸鴨地點                         2019-11-28T03:29:49.177Z        12        27\n",
      "請問有人的柴犬走失嗎？(已找到失主，謝謝大家的幫忙🙏）   2019-11-28T14:57:09.825Z         3        23\n",
      "我養了一隻樹懶🦥                      2019-11-28T12:18:21.317Z         6        23\n",
      "吸貓治百病                         2019-11-29T06:53:05.300Z         3        22\n",
      "就是你！！！我的菜！！！                  2019-11-29T03:10:51.060Z         0        22\n",
      "有愛的假兄弟                        2019-11-29T04:09:24.480Z         0        20\n",
      "當我的貓和海豹都是一個囧臉                 2019-11-28T05:35:09.787Z         4        19\n",
      "我家柴犬一系列照片                     2019-11-29T05:02:04.820Z         3        17\n",
      "協尋幼犬                          2019-11-28T03:29:33.883Z         1        16\n",
      "#貓 #圖 我懷疑我家貓咪根本不覺得自己是貓咪       2019-11-29T15:01:23.745Z         3        15\n",
      "囤貓囤起來😻/圖多文長                   2019-11-29T03:41:19.070Z         2        13\n",
      "限動裡的小三線們                      2019-11-29T04:00:40.448Z         4        12\n",
      "👻我的隱形貓貓                       2019-11-28T03:34:49.818Z         2        11\n",
      "問貓貓的帳號                        2019-11-28T11:30:50.129Z         0         9\n"
     ]
    }
   ],
   "source": [
    "# 2. 取出每一筆資料的「標題」、「貼文時間」、「留言人數」、「按讚人數」\n",
    "print(\"%-30s %-10s %-10s %-10s\" % (\"標題\",\"貼文時間\",\"留言人數\",\"按讚人數\"))\n",
    "for x in jr:\n",
    "    print(\"{0:30}{1:10}{2:10}{3:10}\".format(x[\"title\"],x[\"createdAt\"],x[\"commentCount\"],x[\"likeCount\"]))\n",
    "    "
   ]
  },
  {
   "cell_type": "code",
   "execution_count": 74,
   "metadata": {
    "scrolled": false
   },
   "outputs": [
    {
     "name": "stdout",
     "output_type": "stream",
     "text": [
      "熱門:平均留言人數9,平均按讚人數217\n",
      "最新:平均留言人數2,平均按讚人數3\n"
     ]
    }
   ],
   "source": [
    "# 3. 計算熱門/非熱門文章的「平均留言人數」與「平均按讚人數」\n",
    "response=requests.get('https://www.dcard.tw/_api/forums/pet/posts?popular=true')\n",
    "jr=json.loads(response.text)\n",
    "i=commentCountsum=likeCountsum=0\n",
    "for x in jr:\n",
    "    i+=1\n",
    "    commentCountsum+=int(x[\"commentCount\"])\n",
    "    likeCountsum+=int(x[\"likeCount\"])\n",
    "print (\"熱門:平均留言人數%d,平均按讚人數%d\" % (commentCountsum/i,likeCountsum/i))\n",
    "response=requests.get('https://www.dcard.tw/_api/forums/pet/posts?popular=false')\n",
    "jr=json.loads(response.text)\n",
    "i=commentCountsum=likeCountsum=0\n",
    "for x in jr:\n",
    "    i+=1\n",
    "    commentCountsum+=int(x[\"commentCount\"])\n",
    "    likeCountsum+=int(x[\"likeCount\"])\n",
    "print (\"最新:平均留言人數%d,平均按讚人數%d\" % (commentCountsum/i,likeCountsum/i))"
   ]
  },
  {
   "cell_type": "code",
   "execution_count": null,
   "metadata": {},
   "outputs": [],
   "source": []
  },
  {
   "cell_type": "code",
   "execution_count": null,
   "metadata": {},
   "outputs": [],
   "source": []
  }
 ],
 "metadata": {
  "kernelspec": {
   "display_name": "Python 3",
   "language": "python",
   "name": "python3"
  },
  "language_info": {
   "codemirror_mode": {
    "name": "ipython",
    "version": 3
   },
   "file_extension": ".py",
   "mimetype": "text/x-python",
   "name": "python",
   "nbconvert_exporter": "python",
   "pygments_lexer": "ipython3",
   "version": "3.7.4"
  }
 },
 "nbformat": 4,
 "nbformat_minor": 2
}
