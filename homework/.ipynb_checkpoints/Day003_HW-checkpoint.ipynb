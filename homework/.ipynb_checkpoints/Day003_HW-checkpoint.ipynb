{
 "cells": [
  {
   "cell_type": "markdown",
   "metadata": {},
   "source": [
    "# Python 下載XML檔案與解析\n",
    "\n",
    "\n",
    "* 了解 xml 檔案格式與內容\n",
    "* 能夠利用套件存取 xml 格式的檔案\n"
   ]
  },
  {
   "cell_type": "markdown",
   "metadata": {},
   "source": [
    "## 作業目標\n",
    "\n",
    "* 比較一下範例檔案中的「File I/O」與「xmltodict」讀出來的內容有什麼差異\n",
    "\n",
    "* 根據範例檔案的結果：\n",
    "    1. 請問高雄市有多少地區有溫度資料？\n",
    "    2. 請取出每一個地區所記錄的第一個時間點跟溫度\n",
    "    3. 請取出第一個地區所記錄的每一個時間點跟溫度"
   ]
  },
  {
   "cell_type": "markdown",
   "metadata": {},
   "source": [
    "### 比較一下範例檔案中的「File I/O」與「xmltodict」讀出來的內容有什麼差異\n"
   ]
  },
  {
   "cell_type": "code",
   "execution_count": null,
   "metadata": {},
   "outputs": [],
   "source": [
    "with open(\"./data/64_72hr_CH.xml\",encoding='utf-8') as file:\n",
    "    print(file.read())\n",
    "\n",
    "import xmltodict\n",
    "with open('./data/64_72hr_CH.xml',encoding='utf-8') as fd:\n",
    "    doc=dict(xmltodict.parse(fd.read()))\n",
    "    #print(doc)"
   ]
  },
  {
   "cell_type": "markdown",
   "metadata": {},
   "source": [
    "### 根據範例檔案的結果：\n",
    "\n",
    "1. 請問高雄市有多少地區有溫度資料？\n",
    "2. 請取出每一個地區所記錄的第一個時間點跟溫度\n",
    "3. 請取出第一個地區所記錄的每一個時間點跟溫度"
   ]
  },
  {
   "cell_type": "code",
   "execution_count": null,
   "metadata": {
    "scrolled": true
   },
   "outputs": [],
   "source": [
    "# 1. 請問高雄市有多少地區有溫度資料？\n",
    "with open('./data/64_72hr_CH.xml',encoding='utf-8') as fd:\n",
    "     doc = dict(xmltodict.parse(fd.read())) \n",
    "location=doc[\"cwbopendata\"][\"dataset\"][\"locations\"][\"location\"]\n",
    "for x in location:\n",
    "   print(x[\"locationName\"])"
   ]
  },
  {
   "cell_type": "code",
   "execution_count": null,
   "metadata": {
    "scrolled": true
   },
   "outputs": [],
   "source": [
    "# 2. 請取出每一個地區所記錄的第一個時間點跟溫度\n",
    "for x in location:\n",
    "    print(\"==========================\")\n",
    "    print(\"地區:\"+ x[\"locationName\"])\n",
    "    et=x[\"weatherElement\"][0][\"time\"] #每天溫度\n",
    "    print(\"時間:\" + str(et[0][\"dataTime\"])+\"\\t\"+\"溫度\"+ str(et[0][\"elementValue\"][\"value\"]))"
   ]
  },
  {
   "cell_type": "code",
   "execution_count": null,
   "metadata": {},
   "outputs": [],
   "source": [
    "# 3. 請取出第一個地區所記錄的每一個時間點跟溫度\n",
    "\n",
    "for x in location[:1]:\n",
    "    print(\"==========================\")\n",
    "    print(\"地區:\"+ x[\"locationName\"])\n",
    "    et=x[\"weatherElement\"][0][\"time\"] #每天溫度\n",
    "    for y in et:\n",
    "        print(\"時間:\" + str(y[\"dataTime\"])+\"\\t\"+\"溫度\"+ str(y[\"elementValue\"][\"value\"]))\n",
    "        print(\"-------------------------------\")"
   ]
  },
  {
   "cell_type": "code",
   "execution_count": null,
   "metadata": {},
   "outputs": [],
   "source": []
  }
 ],
 "metadata": {
  "kernelspec": {
   "display_name": "Python 3",
   "language": "python",
   "name": "python3"
  },
  "language_info": {
   "codemirror_mode": {
    "name": "ipython",
    "version": 3
   },
   "file_extension": ".py",
   "mimetype": "text/x-python",
   "name": "python",
   "nbconvert_exporter": "python",
   "pygments_lexer": "ipython3",
   "version": "3.7.4"
  }
 },
 "nbformat": 4,
 "nbformat_minor": 2
}
