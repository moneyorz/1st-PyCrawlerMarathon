{
 "cells": [
  {
   "cell_type": "markdown",
   "metadata": {},
   "source": [
    "# PTT 網路爬蟲實作練習\n",
    "\n",
    "\n",
    "* 能夠利用 Request + BeatifulSour 撰寫爬蟲，並存放到合適的資料結構\n"
   ]
  },
  {
   "cell_type": "markdown",
   "metadata": {},
   "source": [
    "## 作業目標\n",
    "\n",
    "根據範例 ，完成以下問題：\n",
    "\n",
    "* ① 印出最新文章的「作者」「標題」「時間」\n",
    "* ② 印出第一頁所有文章的「作者」「標題」「時間」\n"
   ]
  },
  {
   "cell_type": "markdown",
   "metadata": {},
   "source": [
    "### ① 印出最新文章的「作者」「標題」「時間」"
   ]
  },
  {
   "cell_type": "code",
   "execution_count": null,
   "metadata": {},
   "outputs": [],
   "source": [
    "def abc(url):\n",
    "    import requests\n",
    "    from bs4 import BeautifulSoup\n",
    "    url=url\n",
    "    r=requests.get(url)\n",
    "    result=BeautifulSoup(r.text,'html5lib')\n",
    "    result.find_all('div',class_='r-ent')\n",
    "    for x in result.find_all('div',class_='r-ent'):\n",
    "        result_1=BeautifulSoup(requests.get('https://www.ptt.cc/' + x.find('a')['href']).text,'html5lib')\n",
    "        try:\n",
    "            y=result_1.find(class_='bbs-screen bbs-content').findChildren(class_='article-meta-value')\n",
    "            print(y[0].text,y[2].text,y[3].text)\n",
    "        except:\n",
    "            continue"
   ]
  },
  {
   "cell_type": "code",
   "execution_count": 45,
   "metadata": {},
   "outputs": [
    {
     "name": "stdout",
     "output_type": "stream",
     "text": [
      "blue999 (FLY) [花邊]林書豪被看破手腳?中媒:CBA生存比NBA更難 Sun Dec 15 15:22:08 2019\n",
      "kuluma (墨駒) [情報] WOJ：Doncic腳踝中度扭傷 Sun Dec 15 16:08:37 2019\n",
      "wowoin (wowo) [討論] 077這個傷 Sun Dec 15 16:24:18 2019\n",
      "go190214 (天空之島拉普達) [新聞] 厄齊爾控中國迫害維吾爾 兵工廠仿NBA火箭 Sun Dec 15 16:25:39 2019\n",
      "thnlkj0665 (灰色地帶) [花邊] 告別CBA返美訓練 史陶德邁爾仍有意再戰NBA Sun Dec 15 16:38:09 2019\n",
      "dog9527 (致命病毒) [討論] 喬丹快閃為啥台灣人還這麼愛他 Sun Dec 15 16:45:18 2019\n",
      "MrSatan (老大!!!!!!!!) Re: [情報] LeBron James進入30歲後數據表現 Sun Dec 15 17:57:29 2019\n",
      "s27052705 (小飽) [討論] 林書豪算亞裔第一控嗎？ Sun Dec 15 18:48:45 2019\n",
      "GodEyes (G.I.G) Re: [情報] De'Aaron Fox左腳踝第三級扭傷 Sun Dec 15 18:49:35 2019\n",
      "dwyanes (無限期支持熱火墊底) Re: [新聞] 熱火昨輸球好冤 裁判3度漏吹都對湖人有利 Sun Dec 15 19:02:11 2019\n",
      "Vedan (味丹) [公告] 樂透取消及未來不再開啟樂透 Mon Jun 24 15:08:02 2019\n",
      "qazwsx879345 (Rajon Rondo) [公告] 版主上任相關事項 Fri Oct 25 10:44:03 2019\n",
      "JerroLi (銀色小刀) [情報] SEASON Schedule 賽程 December 19–20 Fri Nov 29 00:46:01 2019\n",
      "dragon803 (好想去露營啊~) [公告]是否禁止basketball top 5文章投票開始 Sun Dec  8 23:55:00 2019\n"
     ]
    }
   ],
   "source": [
    "abc('https://www.ptt.cc/bbs/NBA/index.html')"
   ]
  },
  {
   "cell_type": "markdown",
   "metadata": {},
   "source": [
    "### ② 印出第一頁所有文章的「作者」「標題」「時間」"
   ]
  },
  {
   "cell_type": "code",
   "execution_count": 46,
   "metadata": {
    "scrolled": false
   },
   "outputs": [
    {
     "name": "stdout",
     "output_type": "stream",
     "text": [
      "Price (Price) [轉錄]Lyotard 對於太陽板討論串的結論 Sun May 16 01:54:33 2004\n",
      "Price (Price) [公告] 請停止一切關於本次活動的發言 Mon May 24 00:43:00 2004\n",
      "Frankaze (神采風華) [轉錄]跟之前那篇比起來 我覺得這篇也應該轉過來 Tue Jun  8 01:16:45 2004\n",
      "Frankaze (神采風華) [轉錄]再轉一篇好文來 Tue Jun  8 09:02:23 2004\n",
      "Price (Price) [轉錄][情報] 夏洛特山貓系列 Thu Jun 10 00:39:35 2004\n",
      "Price (Price) [轉錄]Re: [心得] 真是受不了糗爺.... Thu Jun 10 00:51:35 2004\n",
      "Price (Price) [轉錄]總冠軍賽NO.2觀後感 Thu Jun 10 12:05:07 2004\n",
      "AmuroNamie (原來太嗨真的會失眠^___^) [心得] Rasheed Wallace Fri Jun 11 15:06:09 2004\n",
      "toptree (  ) 掌控球賽的男人 Sat Jun 12 07:13:04 2004\n",
      "skchang (3EB板開板囉！) [閒聊] 說說2004季後賽名場面回顧 Sat Jun 12 13:21:49 2004\n",
      "shineup () [心得] 其實說穿了 就是活塞的防守太可怕了 Sat Jun 12 13:12:47 2004\n",
      "cOvi (喵~) Re: [閒聊] 說說2004季後賽名場面回顧 Sat Jun 12 16:43:07 2004\n",
      "ykshih (￼N￼Ns) Re: [閒聊] 說說2004季後賽名場面回顧 Sat Jun 12 17:26:37 2004\n",
      "Frankaze (神采風華) Re: [閒聊] 說說2004季後賽名場面回顧 Sat Jun 12 18:34:46 2004\n",
      "Price (Price) [轉錄]Re: 總冠軍賽NO.3觀後感 Mon Jun 14 02:18:52 2004\n",
      "Frankaze (神采風華) [轉錄]Re: 總冠軍賽NO.3觀後感 Mon Jun 14 02:34:33 2004\n",
      "star1 (第一次魔術表演不算成功) Re: [轉錄]Re: 總冠軍賽NO.3觀後感 Mon Jun 14 07:16:30 2004\n",
      "coldspring (笑笑) Re: [轉錄]Re: 總冠軍賽NO.3觀後感 Mon Jun 14 09:24:57 2004\n",
      "airbear (地圖) Re: Kobe is frustrated... Mon Jun 14 12:56:14 2004\n",
      "pennykidd (andre) Re: [轉錄]Re: 總冠軍賽NO.3觀後感 Mon Jun 14 22:07:01 2004\n"
     ]
    }
   ],
   "source": [
    "abc('https://www.ptt.cc/bbs/NBA/index1.html')\n",
    "    "
   ]
  },
  {
   "cell_type": "markdown",
   "metadata": {},
   "source": [
    "### ③ 試著爬爬看其他版的文章"
   ]
  },
  {
   "cell_type": "code",
   "execution_count": 47,
   "metadata": {},
   "outputs": [
    {
     "name": "stdout",
     "output_type": "stream",
     "text": [
      "a88573081 (pipper005) ［中鋼］複試標準 Sat Dec 14 13:18:25 2019\n",
      "ssyyll () [贈送] 國考相關書籍 Sat Dec 14 15:03:15 2019\n",
      "tobobo (tobobo) [課業]基本電學-直流暫態-RC放電問題請教 Sat Dec 14 16:04:55 2019\n",
      "asdf1256 (guest) [新聞] 9年沒考上公務員，還不要繼續考？  Sat Dec 14 17:06:37 2019\n",
      "geniuswind (天才旋風) [閒聊] 國考可以裸考嗎？ Sat Dec 14 17:13:45 2019\n",
      "tumemanque (Tes) [閒聊] 2020地政士上榜讀書群組 Sat Dec 14 17:34:08 2019\n",
      "hua0122 (閉關修行) [請益] 請問林清申論百分百還是行政法基本十講好 Sat Dec 14 20:55:49 2019\n",
      "tmac012004 (焰靈) Re: [新聞] 9年沒考上公務員，還不要繼續考？ Sat Dec 14 21:29:24 2019\n",
      "Shilinchild (病識感) [閒聊] 關於三等行政法 Sat Dec 14 21:31:21 2019\n",
      "cherrywo (小木偶) Re: [新聞] 9年沒考上公務員，還不要繼續考？ Sat Dec 14 22:11:09 2019\n",
      "cj3x04gp6 (說散就散 真是難聽到爆) [請益] 行政學的一題 Sat Dec 14 23:28:48 2019\n",
      "ptt9999 (ptt999) Re: [新聞] 9年沒考上公務員，還不要繼續考？  Sun Dec 15 01:33:03 2019\n",
      "jmmy2004 (現代吳敬梓) Re: [新聞] 9年沒考上公務員，還不要繼續考？ Sun Dec 15 10:49:15 2019\n",
      "bp4u4ap6 (後山陳信宏) [閒聊] 隔壁的考生拿文官學院包包...感覺很強 Sun Dec 15 11:17:49 2019\n",
      "SHANOLINDA (shiningstar) Re: [補習] 徐喬以前年度的經濟學跟最新的差在哪？ Sun Dec 15 13:06:34 2019\n",
      "ptptptt (ptptptt) Re: [課業] 行政學的一題 Sun Dec 15 13:47:09 2019\n",
      "hopanala (remenber) [課業] 一題污水問題 Sun Dec 15 16:04:26 2019\n",
      "kuanfu (黑暗騎士) [課業] 為什麼不能用串聯電容改善功因？ Sun Dec 15 16:19:28 2019\n",
      "k7219892000 (魯香世家) [閒聊] 明天司律放榜 Sun Dec 15 18:04:12 2019\n",
      "Sn (序列無限) Re: [新聞] 9年沒考上公務員，還不要繼續考？  Sun Dec 15 18:40:07 2019\n",
      "jimjohny (吉米) [公告] 二手書籍教材金卡禮券交易徵求推文區 Sat May 19 23:21:20 2018\n",
      "sonyano1 (我愛敏敏王子~) [閒聊] 精華區進度! Mon May  8 09:08:12 2017\n",
      "alees (元) [公告] 國考板板規 (2019.7.25版本)修 Thu Jul 25 01:45:26 2019\n",
      "alees (元) [公告] 12/14-12/16地方特考共乘專區 Fri Dec  6 04:48:57 2019\n"
     ]
    }
   ],
   "source": [
    "abc('https://www.ptt.cc/bbs/Examination/index.html')"
   ]
  }
 ],
 "metadata": {
  "kernelspec": {
   "display_name": "Python 3",
   "language": "python",
   "name": "python3"
  },
  "language_info": {
   "codemirror_mode": {
    "name": "ipython",
    "version": 3
   },
   "file_extension": ".py",
   "mimetype": "text/x-python",
   "name": "python",
   "nbconvert_exporter": "python",
   "pygments_lexer": "ipython3",
   "version": "3.7.4"
  }
 },
 "nbformat": 4,
 "nbformat_minor": 2
}
